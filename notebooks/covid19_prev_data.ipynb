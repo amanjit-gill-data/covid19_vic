{
 "cells": [
  {
   "cell_type": "markdown",
   "metadata": {},
   "source": [
    "Script for scraping old data from dhhs"
   ]
  },
  {
   "cell_type": "code",
   "execution_count": 21,
   "metadata": {},
   "outputs": [],
   "source": [
    "import pandas as pd\n",
    "import calendar\n",
    "from datetime import date\n",
    "from datetime import timedelta"
   ]
  },
  {
   "cell_type": "markdown",
   "metadata": {},
   "source": [
    "date formats on the dhhs website:\n",
    "\n",
    "05-june-2020\n",
    "\n",
    "9-june-2020\n",
    "\n",
    "21-june\n",
    "\n",
    "sunday-12-july\n",
    "\n",
    "thursday-16-july-2020\n"
   ]
  },
  {
   "cell_type": "code",
   "execution_count": 61,
   "metadata": {},
   "outputs": [],
   "source": [
    "def get_active_cases(date):\n",
    "        \n",
    "    prefix = 'https://www.dhhs.vic.gov.au/coronavirus-update-victoria-'\n",
    "        \n",
    "    y = date.year\n",
    "    m = calendar.month_name[date.month].lower()\n",
    "    d = date.day\n",
    "    wd = calendar.day_name[date.weekday()].lower()\n",
    "    \n",
    "    suffixes = []\n",
    "    \n",
    "    if (d < 10):\n",
    "        suffixes.append('0{}-{}-{}'.format(d, m, y))\n",
    "        suffixes.append('0{}-{}'.format(d, m))\n",
    "        suffixes.append('{}-0{}-{}'.format(wd, d, m))\n",
    "        suffixes.append('{}-0{}-{}-{}'.format(wd, d, m, y))\n",
    "\n",
    "    suffixes.append('{}-{}-{}'.format(d, m, y))\n",
    "    suffixes.append('{}-{}'.format(d, m))\n",
    "    suffixes.append('{}-{}-{}'.format(wd, d, m))\n",
    "    suffixes.append('{}-{}-{}-{}'.format(wd, d, m, y))\n",
    "        \n",
    "    df_list = None\n",
    "    suffix_index = 0\n",
    "    \n",
    "    while (df_list == None and suffix_index < len(suffixes)):   \n",
    "        url = prefix + suffixes[suffix_index]\n",
    "        try:\n",
    "            df_list = pd.read_html(url)\n",
    "        except Exception:\n",
    "            suffix_index += 1\n",
    "        \n",
    "    return df_list[0]"
   ]
  },
  {
   "cell_type": "markdown",
   "metadata": {},
   "source": [
    "collect data from June 14 to today. put into a single csv."
   ]
  },
  {
   "cell_type": "code",
   "execution_count": 71,
   "metadata": {},
   "outputs": [],
   "source": [
    "curr_date = date(2020, 6, 14)\n",
    "end_date = date.today()\n",
    "\n",
    "df_active_cases = pd.DataFrame()\n",
    "\n",
    "while (curr_date != end_date):\n",
    "    df_curr = get_active_cases(curr_date)\n",
    "    # remove LGA row if it exists\n",
    "    # rename columns so each date's df is the same\n",
    "    # set the index to be the LGA name\n",
    "    # convert any NaNs to 0, if these are still being used by dhhs to fill cells\n",
    "    curr_date += timedelta(days=1)\n",
    "    # pd.concat(df_active_cases, df_curr.iloc[:,2])"
   ]
  },
  {
   "cell_type": "code",
   "execution_count": 70,
   "metadata": {},
   "outputs": [
    {
     "data": {
      "text/html": [
       "<div>\n",
       "<style scoped>\n",
       "    .dataframe tbody tr th:only-of-type {\n",
       "        vertical-align: middle;\n",
       "    }\n",
       "\n",
       "    .dataframe tbody tr th {\n",
       "        vertical-align: top;\n",
       "    }\n",
       "\n",
       "    .dataframe thead th {\n",
       "        text-align: right;\n",
       "    }\n",
       "</style>\n",
       "<table border=\"1\" class=\"dataframe\">\n",
       "  <thead>\n",
       "    <tr style=\"text-align: right;\">\n",
       "      <th></th>\n",
       "      <th>LGA</th>\n",
       "      <th>Total confirmed cases (ever)</th>\n",
       "      <th>Currently active cases</th>\n",
       "    </tr>\n",
       "  </thead>\n",
       "  <tbody>\n",
       "    <tr>\n",
       "      <th>0</th>\n",
       "      <td>MELBOURNE</td>\n",
       "      <td>116</td>\n",
       "      <td>9</td>\n",
       "    </tr>\n",
       "    <tr>\n",
       "      <th>1</th>\n",
       "      <td>STONNINGTON</td>\n",
       "      <td>95</td>\n",
       "      <td>1</td>\n",
       "    </tr>\n",
       "    <tr>\n",
       "      <th>2</th>\n",
       "      <td>BANYULE</td>\n",
       "      <td>94</td>\n",
       "      <td>1</td>\n",
       "    </tr>\n",
       "    <tr>\n",
       "      <th>3</th>\n",
       "      <td>BOROONDARA</td>\n",
       "      <td>73</td>\n",
       "      <td>1</td>\n",
       "    </tr>\n",
       "    <tr>\n",
       "      <th>4</th>\n",
       "      <td>BRIMBANK</td>\n",
       "      <td>74</td>\n",
       "      <td>2</td>\n",
       "    </tr>\n",
       "    <tr>\n",
       "      <th>...</th>\n",
       "      <td>...</td>\n",
       "      <td>...</td>\n",
       "      <td>...</td>\n",
       "    </tr>\n",
       "    <tr>\n",
       "      <th>70</th>\n",
       "      <td>MOYNE</td>\n",
       "      <td>1</td>\n",
       "      <td>0</td>\n",
       "    </tr>\n",
       "    <tr>\n",
       "      <th>71</th>\n",
       "      <td>WEST WIMMERA</td>\n",
       "      <td>1</td>\n",
       "      <td>0</td>\n",
       "    </tr>\n",
       "    <tr>\n",
       "      <th>72</th>\n",
       "      <td>WODONGA</td>\n",
       "      <td>1</td>\n",
       "      <td>0</td>\n",
       "    </tr>\n",
       "    <tr>\n",
       "      <th>73</th>\n",
       "      <td>YARRIAMBIACK</td>\n",
       "      <td>1</td>\n",
       "      <td>0</td>\n",
       "    </tr>\n",
       "    <tr>\n",
       "      <th>74</th>\n",
       "      <td>TOTAL</td>\n",
       "      <td>1732</td>\n",
       "      <td>49</td>\n",
       "    </tr>\n",
       "  </tbody>\n",
       "</table>\n",
       "<p>75 rows × 3 columns</p>\n",
       "</div>"
      ],
      "text/plain": [
       "             LGA  Total confirmed cases (ever)  Currently active cases\n",
       "0      MELBOURNE                           116                       9\n",
       "1    STONNINGTON                            95                       1\n",
       "2        BANYULE                            94                       1\n",
       "3     BOROONDARA                            73                       1\n",
       "4       BRIMBANK                            74                       2\n",
       "..           ...                           ...                     ...\n",
       "70         MOYNE                             1                       0\n",
       "71  WEST WIMMERA                             1                       0\n",
       "72       WODONGA                             1                       0\n",
       "73  YARRIAMBIACK                             1                       0\n",
       "74         TOTAL                          1732                      49\n",
       "\n",
       "[75 rows x 3 columns]"
      ]
     },
     "execution_count": 70,
     "metadata": {},
     "output_type": "execute_result"
    }
   ],
   "source": [
    "some_date = date(2020, 6, 15)\n",
    "get_active_cases(some_date)"
   ]
  },
  {
   "cell_type": "code",
   "execution_count": null,
   "metadata": {},
   "outputs": [],
   "source": []
  },
  {
   "cell_type": "code",
   "execution_count": null,
   "metadata": {},
   "outputs": [],
   "source": []
  }
 ],
 "metadata": {
  "kernelspec": {
   "display_name": "Python 3",
   "language": "python",
   "name": "python3"
  },
  "language_info": {
   "codemirror_mode": {
    "name": "ipython",
    "version": 3
   },
   "file_extension": ".py",
   "mimetype": "text/x-python",
   "name": "python",
   "nbconvert_exporter": "python",
   "pygments_lexer": "ipython3",
   "version": "3.8.4"
  }
 },
 "nbformat": 4,
 "nbformat_minor": 4
}
