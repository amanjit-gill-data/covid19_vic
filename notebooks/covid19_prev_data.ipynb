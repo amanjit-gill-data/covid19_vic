{
 "cells": [
  {
   "cell_type": "markdown",
   "metadata": {},
   "source": [
    "Script for scraping old data from dhhs"
   ]
  },
  {
   "cell_type": "code",
   "execution_count": 2,
   "metadata": {},
   "outputs": [],
   "source": [
    "# ensure that python can find my functions\n",
    "import sys\n",
    "sys.path.append('../scripts')"
   ]
  },
  {
   "cell_type": "code",
   "execution_count": 3,
   "metadata": {},
   "outputs": [],
   "source": [
    "import pandas as pd\n",
    "import numpy as np\n",
    "from covid19_utils import get_active_cases\n",
    "from covid19_utils import clean_active_cases\n",
    "from datetime import date\n",
    "from datetime import timedelta\n",
    "import time"
   ]
  },
  {
   "cell_type": "code",
   "execution_count": 2,
   "metadata": {},
   "outputs": [],
   "source": [
    "pd.options.mode.chained_assignment = None"
   ]
  },
  {
   "cell_type": "markdown",
   "metadata": {},
   "source": [
    "collect data from June 14 to today. put into a single csv."
   ]
  },
  {
   "cell_type": "code",
   "execution_count": 3,
   "metadata": {},
   "outputs": [],
   "source": [
    "curr_date = date(2020, 6, 14)\n",
    "end_date = date.today()\n",
    "\n",
    "# get the df started with the first date, so all the index names are there\n",
    "df_all_dates = get_active_cases(curr_date)\n",
    "df_all_dates = clean_active_cases(df_all_dates, curr_date)\n",
    "\n",
    "# now get the cases for the rest of the dates until yesterday\n",
    "curr_date += timedelta(days=1)\n",
    "\n",
    "while (curr_date < end_date):\n",
    "    df_curr = get_active_cases(curr_date)\n",
    "    df_curr = clean_active_cases(df_curr, curr_date)\n",
    "    df_all_dates = df_all_dates.merge(df_curr, on = 'lga', how = 'outer')\n",
    "    curr_date += timedelta(days=1)\n",
    "    time.sleep(10)"
   ]
  },
  {
   "cell_type": "code",
   "execution_count": 6,
   "metadata": {},
   "outputs": [],
   "source": [
    "# after the merge, lgas that weren't present in earlier tables have blanks. replace these with 0s.\n",
    "df_all_dates.replace(np.nan, 0, inplace = True)\n",
    "\n",
    "# order by index so the data for a specific LGA is easier to find\n",
    "df_all_dates.sort_values(by='lga', axis=0, inplace=True)"
   ]
  },
  {
   "cell_type": "code",
   "execution_count": 7,
   "metadata": {},
   "outputs": [],
   "source": [
    "df_all_dates.to_csv('../data/all_dates.csv')"
   ]
  },
  {
   "cell_type": "code",
   "execution_count": null,
   "metadata": {},
   "outputs": [],
   "source": []
  }
 ],
 "metadata": {
  "kernelspec": {
   "display_name": "Python 3",
   "language": "python",
   "name": "python3"
  },
  "language_info": {
   "codemirror_mode": {
    "name": "ipython",
    "version": 3
   },
   "file_extension": ".py",
   "mimetype": "text/x-python",
   "name": "python",
   "nbconvert_exporter": "python",
   "pygments_lexer": "ipython3",
   "version": "3.8.4"
  }
 },
 "nbformat": 4,
 "nbformat_minor": 4
}
