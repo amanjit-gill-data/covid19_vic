{
 "cells": [
  {
   "cell_type": "markdown",
   "metadata": {},
   "source": [
    "Script for scraping old data from dhhs"
   ]
  },
  {
   "cell_type": "code",
   "execution_count": 19,
   "metadata": {},
   "outputs": [],
   "source": [
    "import pandas as pd\n",
    "import numpy as np\n",
    "import calendar\n",
    "from datetime import date\n",
    "from datetime import timedelta"
   ]
  },
  {
   "cell_type": "code",
   "execution_count": 45,
   "metadata": {},
   "outputs": [],
   "source": [
    "pd.options.mode.chained_assignment = None"
   ]
  },
  {
   "cell_type": "markdown",
   "metadata": {},
   "source": [
    "date formats on the dhhs website:\n",
    "\n",
    "05-june-2020\n",
    "\n",
    "9-june-2020\n",
    "\n",
    "21-june\n",
    "\n",
    "sunday-12-july\n",
    "\n",
    "thursday-16-july-2020\n"
   ]
  },
  {
   "cell_type": "code",
   "execution_count": 4,
   "metadata": {},
   "outputs": [],
   "source": [
    "def get_active_cases(date):\n",
    "        \n",
    "    prefix = 'https://www.dhhs.vic.gov.au/coronavirus-update-victoria-'\n",
    "        \n",
    "    y = date.year\n",
    "    m = calendar.month_name[date.month].lower()\n",
    "    d = date.day\n",
    "    wd = calendar.day_name[date.weekday()].lower()\n",
    "    \n",
    "    suffixes = []\n",
    "    \n",
    "    if (d < 10):\n",
    "        suffixes.append('0{}-{}-{}'.format(d, m, y))\n",
    "        suffixes.append('0{}-{}'.format(d, m))\n",
    "        suffixes.append('{}-0{}-{}'.format(wd, d, m))\n",
    "        suffixes.append('{}-0{}-{}-{}'.format(wd, d, m, y))\n",
    "\n",
    "    suffixes.append('{}-{}-{}'.format(d, m, y))\n",
    "    suffixes.append('{}-{}'.format(d, m))\n",
    "    suffixes.append('{}-{}-{}'.format(wd, d, m))\n",
    "    suffixes.append('{}-{}-{}-{}'.format(wd, d, m, y))\n",
    "        \n",
    "    df_list = None\n",
    "    suffix_index = 0\n",
    "    \n",
    "    while (df_list == None and suffix_index < len(suffixes)):   \n",
    "        url = prefix + suffixes[suffix_index]\n",
    "        try:\n",
    "            df_list = pd.read_html(url)\n",
    "        except Exception:\n",
    "            suffix_index += 1\n",
    "        \n",
    "    return df_list[0]"
   ]
  },
  {
   "cell_type": "code",
   "execution_count": 171,
   "metadata": {},
   "outputs": [],
   "source": [
    "# just leave the rows like 'Total', 'TOTAL', 'Total:', 'UNKNOWN', etc, because \n",
    "# there are too many of these that turn up unexpectedly and disappear on later days\n",
    "\n",
    "# leaving these rows in won't affect the choropleth; they'll just get ignored because they don't\n",
    "# match any of the feature names in the geojson\n",
    "\n",
    "def clean_active_cases(df_cases, date):\n",
    "    df_cases = df_cases[df_cases.iloc[:,0] != 'LGA']\n",
    "    df_cases.columns = ['lga', 'total', date]\n",
    "    df_cases.drop('total', axis = 1, inplace = True)\n",
    "    df_cases.set_index('lga', inplace = True)\n",
    "    return df_cases"
   ]
  },
  {
   "cell_type": "markdown",
   "metadata": {},
   "source": [
    "collect data from June 14 to today. put into a single csv."
   ]
  },
  {
   "cell_type": "code",
   "execution_count": 177,
   "metadata": {},
   "outputs": [],
   "source": [
    "curr_date = date(2020, 6, 14)\n",
    "end_date = date.today()\n",
    "\n",
    "# get the df started with the first date, so all the index names are there.\n",
    "df_all_dates = get_active_cases(curr_date)\n",
    "df_all_dates = clean_active_cases(df_all_dates, curr_date)\n",
    "\n",
    "# now get the cases for the rest of the dates until yesterday\n",
    "curr_date += timedelta(days=1)\n",
    "\n",
    "while (curr_date < end_date):\n",
    "    df_curr = get_active_cases(curr_date)\n",
    "    df_curr = clean_active_cases(df_curr, curr_date)\n",
    "    df_all_dates = df_all_dates.merge(df_curr, on = 'lga', how = 'outer')\n",
    "    curr_date += timedelta(days=1)\n",
    "\n",
    "# replace all the NaNs with 0, as some of the earlier daily tables used blanks rather than 0s\n",
    "df_all_dates.replace(np.nan, 0, inplace = True)"
   ]
  },
  {
   "cell_type": "code",
   "execution_count": 179,
   "metadata": {},
   "outputs": [],
   "source": [
    "# create CSV list of all LGA names\n",
    "# load it here\n",
    "# create list of LGA values\n",
    "# use the list to eliminate all rows where the LGA is not in that list i.e. select df using isin()"
   ]
  },
  {
   "cell_type": "code",
   "execution_count": null,
   "metadata": {},
   "outputs": [],
   "source": []
  }
 ],
 "metadata": {
  "kernelspec": {
   "display_name": "Python 3",
   "language": "python",
   "name": "python3"
  },
  "language_info": {
   "codemirror_mode": {
    "name": "ipython",
    "version": 3
   },
   "file_extension": ".py",
   "mimetype": "text/x-python",
   "name": "python",
   "nbconvert_exporter": "python",
   "pygments_lexer": "ipython3",
   "version": "3.8.4"
  }
 },
 "nbformat": 4,
 "nbformat_minor": 4
}
