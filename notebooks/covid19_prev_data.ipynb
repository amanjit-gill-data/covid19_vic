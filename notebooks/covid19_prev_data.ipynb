{
 "cells": [
  {
   "cell_type": "markdown",
   "metadata": {},
   "source": [
    "Script for scraping old data from dhhs"
   ]
  },
  {
   "cell_type": "code",
   "execution_count": 39,
   "metadata": {},
   "outputs": [],
   "source": [
    "import pandas as pd\n",
    "import calendar\n",
    "from datetime import date\n",
    "from datetime import timedelta"
   ]
  },
  {
   "cell_type": "code",
   "execution_count": null,
   "metadata": {},
   "outputs": [],
   "source": []
  },
  {
   "cell_type": "markdown",
   "metadata": {},
   "source": [
    "date formats on the dhhs website:\n",
    "\n",
    "05-june-2020\n",
    "9-june-2020\n",
    "14-june-2020\n",
    "21-june\n",
    "sunday-12-july\n",
    "thursday-16-july-2020"
   ]
  },
  {
   "cell_type": "code",
   "execution_count": 93,
   "metadata": {},
   "outputs": [],
   "source": [
    "def get_url(date):\n",
    "        \n",
    "    prefix = 'https://www.dhhs.vic.gov.au/coronavirus-update-'\n",
    "        \n",
    "    y = date.year\n",
    "    m = calendar.month_name[date.month].lower()\n",
    "    d = date.day\n",
    "    wd = calendar.day_name[date.weekday()].lower()\n",
    "    \n",
    "    suffix1 = '0{}-{}-{}'.format(d, m, y)\n",
    "    suffix2 = '{}-{}-{}'.format(d, m, y)\n",
    "    suffix3 = '0{}-{}'.format(d, m)\n",
    "    suffix4 = '{}-{}'.format(d, m)\n",
    "    suffix5 = '{}-0{}-{}'.format(wd, d, m)\n",
    "    suffix6 = '{}-{}-{}'.format(wd, d, m)\n",
    "    suffix7 = '{}-0{}-{}-{}'.format(wd, d, m, y)\n",
    "    suffix8 = '{}-{}-{}-{}'.format(wd, d, m, y)\n",
    "    \n",
    "    print(suffix1, suffix2, suffix3, suffix4, suffix5, suffix6, suffix7, suffix8)"
   ]
  },
  {
   "cell_type": "code",
   "execution_count": 94,
   "metadata": {},
   "outputs": [
    {
     "name": "stdout",
     "output_type": "stream",
     "text": [
      "014-june-2020 14-june-2020 014-june 14-june sunday-014-june sunday-14-june sunday-014-june-2020 sunday-14-june-2020\n"
     ]
    }
   ],
   "source": [
    "some_date = date(2020, 6, 14)\n",
    "get_url(some_date)"
   ]
  },
  {
   "cell_type": "code",
   "execution_count": null,
   "metadata": {},
   "outputs": [],
   "source": [
    "curr_date = date(2020, 6, 14)\n",
    "end_date = date.today()\n",
    "\n",
    "while (curr_date != end_date):\n",
    "    curr_date += timedelta(days=1)\n",
    "    print(curr_date)"
   ]
  },
  {
   "cell_type": "code",
   "execution_count": 11,
   "metadata": {},
   "outputs": [],
   "source": [
    "url = \"https://www.dhhs.vic.gov.au/coronavirus-update-victoria-14-june-2020\"\n",
    "df_list = pd.read_html(url)"
   ]
  },
  {
   "cell_type": "code",
   "execution_count": null,
   "metadata": {},
   "outputs": [],
   "source": []
  },
  {
   "cell_type": "code",
   "execution_count": 13,
   "metadata": {},
   "outputs": [
    {
     "data": {
      "text/html": [
       "<div>\n",
       "<style scoped>\n",
       "    .dataframe tbody tr th:only-of-type {\n",
       "        vertical-align: middle;\n",
       "    }\n",
       "\n",
       "    .dataframe tbody tr th {\n",
       "        vertical-align: top;\n",
       "    }\n",
       "\n",
       "    .dataframe thead th {\n",
       "        text-align: right;\n",
       "    }\n",
       "</style>\n",
       "<table border=\"1\" class=\"dataframe\">\n",
       "  <thead>\n",
       "    <tr style=\"text-align: right;\">\n",
       "      <th></th>\n",
       "      <th>LGA</th>\n",
       "      <th>Total confirmed cases (ever)</th>\n",
       "      <th>Currently active cases</th>\n",
       "    </tr>\n",
       "  </thead>\n",
       "  <tbody>\n",
       "    <tr>\n",
       "      <th>0</th>\n",
       "      <td>MELBOURNE</td>\n",
       "      <td>115</td>\n",
       "      <td>8</td>\n",
       "    </tr>\n",
       "    <tr>\n",
       "      <th>1</th>\n",
       "      <td>STONNINGTON</td>\n",
       "      <td>95</td>\n",
       "      <td>1</td>\n",
       "    </tr>\n",
       "    <tr>\n",
       "      <th>2</th>\n",
       "      <td>BANYULE</td>\n",
       "      <td>94</td>\n",
       "      <td>2</td>\n",
       "    </tr>\n",
       "    <tr>\n",
       "      <th>3</th>\n",
       "      <td>BOROONDARA</td>\n",
       "      <td>73</td>\n",
       "      <td>1</td>\n",
       "    </tr>\n",
       "    <tr>\n",
       "      <th>4</th>\n",
       "      <td>BRIMBANK</td>\n",
       "      <td>73</td>\n",
       "      <td>1</td>\n",
       "    </tr>\n",
       "    <tr>\n",
       "      <th>...</th>\n",
       "      <td>...</td>\n",
       "      <td>...</td>\n",
       "      <td>...</td>\n",
       "    </tr>\n",
       "    <tr>\n",
       "      <th>70</th>\n",
       "      <td>MOYNE</td>\n",
       "      <td>1</td>\n",
       "      <td>0</td>\n",
       "    </tr>\n",
       "    <tr>\n",
       "      <th>71</th>\n",
       "      <td>WEST WIMMERA</td>\n",
       "      <td>1</td>\n",
       "      <td>0</td>\n",
       "    </tr>\n",
       "    <tr>\n",
       "      <th>72</th>\n",
       "      <td>WODONGA</td>\n",
       "      <td>1</td>\n",
       "      <td>0</td>\n",
       "    </tr>\n",
       "    <tr>\n",
       "      <th>73</th>\n",
       "      <td>YARRIAMBIACK</td>\n",
       "      <td>1</td>\n",
       "      <td>0</td>\n",
       "    </tr>\n",
       "    <tr>\n",
       "      <th>74</th>\n",
       "      <td>UNKNOWN</td>\n",
       "      <td>2</td>\n",
       "      <td>1</td>\n",
       "    </tr>\n",
       "  </tbody>\n",
       "</table>\n",
       "<p>75 rows × 3 columns</p>\n",
       "</div>"
      ],
      "text/plain": [
       "             LGA  Total confirmed cases (ever)  Currently active cases\n",
       "0      MELBOURNE                           115                       8\n",
       "1    STONNINGTON                            95                       1\n",
       "2        BANYULE                            94                       2\n",
       "3     BOROONDARA                            73                       1\n",
       "4       BRIMBANK                            73                       1\n",
       "..           ...                           ...                     ...\n",
       "70         MOYNE                             1                       0\n",
       "71  WEST WIMMERA                             1                       0\n",
       "72       WODONGA                             1                       0\n",
       "73  YARRIAMBIACK                             1                       0\n",
       "74       UNKNOWN                             2                       1\n",
       "\n",
       "[75 rows x 3 columns]"
      ]
     },
     "execution_count": 13,
     "metadata": {},
     "output_type": "execute_result"
    }
   ],
   "source": [
    "df_list[0]"
   ]
  },
  {
   "cell_type": "code",
   "execution_count": 19,
   "metadata": {},
   "outputs": [
    {
     "name": "stdout",
     "output_type": "stream",
     "text": [
      "2020\n",
      "7\n",
      "27\n",
      "0\n"
     ]
    }
   ],
   "source": [
    "today = date.today()\n",
    "print(today.year)\n",
    "print(today.month)\n",
    "print(today.day)\n",
    "print(today.weekday())"
   ]
  },
  {
   "cell_type": "code",
   "execution_count": 33,
   "metadata": {},
   "outputs": [
    {
     "name": "stdout",
     "output_type": "stream",
     "text": [
      "2020\n",
      "7\n",
      "28\n",
      "1\n",
      "tuesday\n"
     ]
    }
   ],
   "source": [
    "tomorrow = today + timedelta(days=1)\n",
    "print(tomorrow.year)\n",
    "print(tomorrow.month)\n",
    "print(tomorrow.day)\n",
    "print(tomorrow.weekday())\n",
    "print(weekdays[tomorrow.weekday()])"
   ]
  },
  {
   "cell_type": "code",
   "execution_count": 25,
   "metadata": {},
   "outputs": [],
   "source": []
  },
  {
   "cell_type": "code",
   "execution_count": 36,
   "metadata": {},
   "outputs": [
    {
     "name": "stdout",
     "output_type": "stream",
     "text": [
      "2020-06-15\n",
      "2020-06-16\n",
      "2020-06-17\n",
      "2020-06-18\n",
      "2020-06-19\n",
      "2020-06-20\n",
      "2020-06-21\n",
      "2020-06-22\n",
      "2020-06-23\n",
      "2020-06-24\n",
      "2020-06-25\n",
      "2020-06-26\n",
      "2020-06-27\n",
      "2020-06-28\n",
      "2020-06-29\n",
      "2020-06-30\n",
      "2020-07-01\n",
      "2020-07-02\n",
      "2020-07-03\n",
      "2020-07-04\n",
      "2020-07-05\n",
      "2020-07-06\n",
      "2020-07-07\n",
      "2020-07-08\n",
      "2020-07-09\n",
      "2020-07-10\n",
      "2020-07-11\n",
      "2020-07-12\n",
      "2020-07-13\n",
      "2020-07-14\n",
      "2020-07-15\n",
      "2020-07-16\n",
      "2020-07-17\n",
      "2020-07-18\n",
      "2020-07-19\n",
      "2020-07-20\n",
      "2020-07-21\n",
      "2020-07-22\n",
      "2020-07-23\n",
      "2020-07-24\n",
      "2020-07-25\n",
      "2020-07-26\n",
      "2020-07-27\n"
     ]
    }
   ],
   "source": []
  },
  {
   "cell_type": "code",
   "execution_count": null,
   "metadata": {},
   "outputs": [],
   "source": []
  }
 ],
 "metadata": {
  "kernelspec": {
   "display_name": "Python 3",
   "language": "python",
   "name": "python3"
  },
  "language_info": {
   "codemirror_mode": {
    "name": "ipython",
    "version": 3
   },
   "file_extension": ".py",
   "mimetype": "text/x-python",
   "name": "python",
   "nbconvert_exporter": "python",
   "pygments_lexer": "ipython3",
   "version": "3.8.4"
  }
 },
 "nbformat": 4,
 "nbformat_minor": 4
}
