{
 "cells": [
  {
   "cell_type": "markdown",
   "metadata": {},
   "source": [
    "### Script for creating images for all dates - run only one time"
   ]
  },
  {
   "cell_type": "code",
   "execution_count": 1,
   "metadata": {},
   "outputs": [],
   "source": [
    "import geopandas as gpd\n",
    "import matplotlib.cm as cm\n",
    "import matplotlib.colors as col\n",
    "import matplotlib.pyplot as plt\n",
    "import pandas as pd\n",
    "import math"
   ]
  },
  {
   "cell_type": "code",
   "execution_count": 2,
   "metadata": {},
   "outputs": [],
   "source": [
    "# load geometry data\n",
    "vic_geo_df = gpd.read_file('../data/VIC_LOCALITY_POLYGON_shp.geojson')"
   ]
  },
  {
   "cell_type": "code",
   "execution_count": 3,
   "metadata": {},
   "outputs": [],
   "source": [
    "# load active cases data\n",
    "df_all_dates = pd.read_csv('../data/all_dates.csv')"
   ]
  },
  {
   "cell_type": "code",
   "execution_count": 4,
   "metadata": {},
   "outputs": [],
   "source": [
    "# merge geometry with active cases\n",
    "vic_geo_df = pd.merge(vic_geo_df[['VIC_LGA__3', 'geometry']], df_all_dates, how = 'inner', \n",
    "                      left_on = 'VIC_LGA__3', right_on = 'lga', sort = True)"
   ]
  },
  {
   "cell_type": "code",
   "execution_count": 5,
   "metadata": {},
   "outputs": [],
   "source": [
    "# create colour map that will be used for all images\n",
    "cmap = col.LinearSegmentedColormap.from_list(\n",
    "    'covid_custom', [(0,'white'), (0.01, '#fffa86'), (0.25, 'yellow'), (0.5, 'red'), (0.75, 'brown'), (1, 'black')])"
   ]
  },
  {
   "cell_type": "code",
   "execution_count": 6,
   "metadata": {},
   "outputs": [],
   "source": [
    "# create list of dates\n",
    "date_list = vic_geo_df.columns.tolist()\n",
    "\n",
    "date_list.remove('VIC_LGA__3')\n",
    "date_list.remove('geometry')\n",
    "date_list.remove('lga')"
   ]
  },
  {
   "cell_type": "code",
   "execution_count": 7,
   "metadata": {},
   "outputs": [],
   "source": [
    "# set vmax for visualisation scale\n",
    "max_cases = vic_geo_df[date_list].max().max()\n",
    "vmax = math.ceil(max_cases/100) * 100\n",
    "\n",
    "# set number of bins such that bin size is 10\n",
    "k = vmax/10"
   ]
  },
  {
   "cell_type": "code",
   "execution_count": 8,
   "metadata": {},
   "outputs": [],
   "source": [
    "# define paths where image files will be stored\n",
    "MELB_CASES_PATH = '../data/images/melb/cases_absolute/'\n",
    "VIC_CASES_PATH = '../data/images/all_vic/cases_absolute/'"
   ]
  },
  {
   "cell_type": "code",
   "execution_count": 9,
   "metadata": {},
   "outputs": [],
   "source": [
    "# define function for visualising one date\n",
    "def create_image(gdf, col_name, path, img_num):\n",
    "    covid_map = gdf.plot(figsize = (14,10), column = col_name, cmap = cmap, k = k, \n",
    "                         vmin = 0, vmax = vmax, edgecolor = 'lightblue')\n",
    "    covid_map.axis('off')\n",
    "    plt.tight_layout()\n",
    "    plt.savefig(path + str(img_num).zfill(3) + '.png')\n",
    "    plt.close()"
   ]
  },
  {
   "cell_type": "markdown",
   "metadata": {},
   "source": [
    "#### first map just the melb lgas"
   ]
  },
  {
   "cell_type": "code",
   "execution_count": 10,
   "metadata": {},
   "outputs": [],
   "source": [
    "melb_lgas = ['Banyule','Bayside','Boroondara','Brimbank','Cardinia','Casey','Darebin','Frankston','Glen Eira',\n",
    "'Greater Dandenong','Hobsons Bay','Hume','Kingston','Knox','Manningham','Maribyrnong','Maroondah','Melbourne',\n",
    "'Melton','Monash','Moonee Valley','Moreland','Mornington Peninsula','Nillumbik','Port Phillip','Stonnington',\n",
    "'Whitehorse','Whittlesea','Wyndham','Yarra','Yarra Ranges']\n",
    "\n",
    "melb_lgas = [lga.upper() for lga in melb_lgas]"
   ]
  },
  {
   "cell_type": "code",
   "execution_count": 11,
   "metadata": {},
   "outputs": [],
   "source": [
    "melb_geo_df = vic_geo_df[vic_geo_df['lga'].isin(melb_lgas)]"
   ]
  },
  {
   "cell_type": "code",
   "execution_count": 12,
   "metadata": {},
   "outputs": [],
   "source": [
    "for i in range(len(date_list)):\n",
    "    create_image(melb_geo_df, date_list[i], MELB_CASES_PATH, i)"
   ]
  },
  {
   "cell_type": "markdown",
   "metadata": {},
   "source": [
    "#### now map all victoria"
   ]
  },
  {
   "cell_type": "code",
   "execution_count": 13,
   "metadata": {},
   "outputs": [],
   "source": [
    "for i in range(len(date_list)):\n",
    "    create_image(vic_geo_df, date_list[i], VIC_CASES_PATH, i)"
   ]
  },
  {
   "cell_type": "markdown",
   "metadata": {},
   "source": [
    "#### save color scale in its own image file"
   ]
  },
  {
   "cell_type": "code",
   "execution_count": 14,
   "metadata": {},
   "outputs": [],
   "source": [
    "ax = plt.subplot()\n",
    "plt.colorbar(cm.ScalarMappable(norm=col.Normalize(0, vmax), cmap=cmap), ax=ax)\n",
    "ax.remove()\n",
    "plt.savefig('../data/images/scale.svg', bbox_inches = 'tight')\n",
    "plt.close()"
   ]
  },
  {
   "cell_type": "code",
   "execution_count": null,
   "metadata": {},
   "outputs": [],
   "source": []
  }
 ],
 "metadata": {
  "kernelspec": {
   "display_name": "Python 3",
   "language": "python",
   "name": "python3"
  },
  "language_info": {
   "codemirror_mode": {
    "name": "ipython",
    "version": 3
   },
   "file_extension": ".py",
   "mimetype": "text/x-python",
   "name": "python",
   "nbconvert_exporter": "python",
   "pygments_lexer": "ipython3",
   "version": "3.8.5"
  }
 },
 "nbformat": 4,
 "nbformat_minor": 4
}
